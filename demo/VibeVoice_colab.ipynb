{
 "cells": [
  {
   "cell_type": "markdown",
   "id": "AHLptWHtQmw-",
   "metadata": {
    "id": "AHLptWHtQmw-"
   },
   "source": [
    "# VibeVoice Colab — T4 Quickstart (1.5B)\n",
    "This page provides a quickstart guide to run VibeVoice on Colab with T4.\n",
    "\n",
    "The T4 GPU can only support the 1.5B model due to memory limitations. Please note that T4 can only use SDPA instead of flash_attention_2, which may result in unstable and lower audio quality. For the best TTS experience, we recommend trying the 7B model on a more powerful GPU."
   ]
  },
  {
   "cell_type": "markdown",
   "id": "vzwhx5AtQ37g",
   "metadata": {
    "id": "vzwhx5AtQ37g"
   },
   "source": [
    "## Step 1: Use T4\n",
    "\n"
   ]
  },
  {
   "cell_type": "markdown",
   "id": "ryxffqxlVbbP",
   "metadata": {
    "id": "ryxffqxlVbbP"
   },
   "source": [
    "Use T4 in Colab: go to Runtime → Change runtime type → Hardware accelerator: GPU → T4."
   ]
  },
  {
   "cell_type": "code",
   "execution_count": null,
   "id": "Hek0yZKdVot_",
   "metadata": {
    "id": "Hek0yZKdVot_"
   },
   "outputs": [],
   "source": [
    "import torch\n",
    "print(torch.cuda.is_available())\n",
    "!nvidia-smi"
   ]
  },
  {
   "cell_type": "markdown",
   "id": "S8D9WNSvWFwy",
   "metadata": {
    "id": "S8D9WNSvWFwy"
   },
   "source": [
    "## Step 2: Env Install"
   ]
  },
  {
   "cell_type": "code",
   "execution_count": null,
   "id": "2xGbc7gKMD7A",
   "metadata": {
    "id": "2xGbc7gKMD7A"
   },
   "outputs": [],
   "source": [
    "!git clone https://github.com/shamspias/VibeVoice.git\n",
    "\n",
    "import os\n",
    "os.chdir(\"./VibeVoice\")\n",
    "\n",
    "!apt update && apt install ffmpeg -y\n",
    "!pip install -e ."
   ]
  },
  {
   "cell_type": "markdown",
   "id": "YmxjRFSFW4aE",
   "metadata": {
    "id": "YmxjRFSFW4aE"
   },
   "source": [
    "## Step 3: Run VibeVoice"
   ]
  },
  {
   "metadata": {},
   "cell_type": "code",
   "outputs": [],
   "execution_count": null,
   "source": "!python demo/inference_from_file.py --list_voices",
   "id": "972846cfe275007a"
  },
  {
   "metadata": {},
   "cell_type": "code",
   "outputs": [],
   "execution_count": null,
   "source": [
    "# --- edit only these two lines ---\n",
    "SPEAKER_NAME = \"Frank_man Mary_woman_bgm\"     # e.g., \"Mamaru\"\n",
    "TEXT_BASENAME = \"2p_short\"  # e.g., \"2p_short\" (no path, no .txt)\n",
    "# --------------------------------\n",
    "\n",
    "# Fixed bits (same path & extension)\n",
    "BASE_TXT_DIR = \"demo/text_examples\"\n",
    "TXT_EXT = \".txt\"\n",
    "MODEL_PATH = \"microsoft/VibeVoice-1.5B\"\n",
    "\n",
    "# Build the full txt path from the base name\n",
    "txt_path = f\"{BASE_TXT_DIR}/{TEXT_BASENAME}{TXT_EXT}\"\n",
    "\n",
    "# Show what will run (optional)\n",
    "print(\"Speaker:\", SPEAKER_NAME)\n",
    "print(\"Text path:\", txt_path)\n",
    "\n",
    "# Run the script (quotes handle spaces safely)\n"
   ],
   "id": "ec3c06a8ee7f9342"
  },
  {
   "metadata": {},
   "cell_type": "code",
   "outputs": [],
   "execution_count": null,
   "source": [
    "# First download checkpoint takes ~3 minutes\n",
    "!python demo/inference_from_file.py --model_path \"{MODEL_PATH}\" --txt_path \"{txt_path}\" --speaker_names \"{SPEAKER_NAME}\""
   ],
   "id": "MfQ0geOJQNS5"
  },
  {
   "metadata": {},
   "cell_type": "code",
   "outputs": [],
   "execution_count": null,
   "source": [
    "from IPython.display import HTML, display\n",
    "from pathlib import Path\n",
    "import base64, html, os\n",
    "\n",
    "# assumes TEXT_BASENAME is set, e.g. TEXT_BASENAME = \"2p_short\"\n",
    "out_path = Path(f\"./outputs/{TEXT_BASENAME}_generated.wav\")\n",
    "\n",
    "if not out_path.exists():\n",
    "    display(HTML(f\"\"\"\n",
    "    <div style=\"font-family: ui-sans-serif, system-ui; color:#b91c1c; background:#fff1f2;\n",
    "                border:1px solid #fecdd3; border-radius:12px; padding:12px 16px;\">\n",
    "      <strong>Missing file:</strong> {out_path.as_posix()}\n",
    "    </div>\"\"\"))\n",
    "else:\n",
    "    # Read and base64-encode the file so the browser can download it directly\n",
    "    data = out_path.read_bytes()\n",
    "    b64 = base64.b64encode(data).decode(\"ascii\")\n",
    "    filename = f\"{TEXT_BASENAME}_generated.wav\"\n",
    "    title = f\"Generated Audio · {TEXT_BASENAME}\"\n",
    "\n",
    "    html_block = f\"\"\"\n",
    "    <div style=\"\n",
    "        font-family: ui-sans-serif, system-ui, -apple-system, Segoe UI, Roboto, Arial;\n",
    "        line-height:1.5; margin: 12px 0; padding: 18px;\n",
    "        border: 1px solid #e5e7eb; border-radius: 16px;\n",
    "        box-shadow: 0 2px 12px rgba(0,0,0,.06);\n",
    "        background: linear-gradient(180deg,#ffffff,#fafafa);\n",
    "    \">\n",
    "      <div style=\"font-size: 20px; font-weight: 700; margin-bottom: 6px;\">\n",
    "        {html.escape(title)}\n",
    "      </div>\n",
    "      <div style=\"font-size: 12px; color:#6b7280; margin-bottom: 12px;\">\n",
    "        Size: {len(data)/1024:.1f} KB\n",
    "      </div>\n",
    "\n",
    "      <audio controls src=\"data:audio/wav;base64,{b64}\"\n",
    "             style=\"width:100%; outline:none; border-radius:10px; margin-bottom:14px;\"></audio>\n",
    "\n",
    "      <a href=\"data:audio/wav;base64,{b64}\" download=\"{html.escape(filename)}\"\n",
    "         style=\"\n",
    "           display:inline-flex; align-items:center; gap:10px;\n",
    "           text-decoration:none; font-weight:600; font-size:16px;\n",
    "           padding:12px 18px; border-radius:9999px;\n",
    "           border: 1px solid #d1d5db;\n",
    "           background: linear-gradient(180deg,#ffffff,#f3f4f6);\n",
    "           box-shadow: 0 1px 3px rgba(0,0,0,.08), inset 0 1px 0 #ffffff;\n",
    "           cursor:pointer;\n",
    "         \"\n",
    "         onmouseover=\"this.style.boxShadow='0 2px 8px rgba(0,0,0,.12), inset 0 1px 0 #ffffff'\"\n",
    "         onmouseout=\"this.style.boxShadow='0 1px 3px rgba(0,0,0,.08), inset 0 1px 0 #ffffff'\">\n",
    "        <span aria-hidden=\"true\" style=\"font-size:18px; line-height:1\">⬇️</span>\n",
    "        <span>Download WAV</span>\n",
    "      </a>\n",
    "\n",
    "      <div style=\"font-size:12px; color:#6b7280; margin-top:8px;\">\n",
    "        Tip: If your browser blocks data-URL downloads, right-click → “Save link as…”\n",
    "      </div>\n",
    "    </div>\n",
    "    \"\"\"\n",
    "    display(HTML(html_block))\n"
   ],
   "id": "9e149afc39553d8e"
  },
  {
   "cell_type": "markdown",
   "id": "Pd6-KX2Hdswx",
   "metadata": {
    "id": "Pd6-KX2Hdswx"
   },
   "source": [
    "### TTS from your text"
   ]
  },
  {
   "cell_type": "code",
   "execution_count": null,
   "id": "ZB482MvXbg8M",
   "metadata": {
    "id": "ZB482MvXbg8M"
   },
   "outputs": [],
   "source": [
    "text = \"\"\"Speaker 1: Can I try VibeVoice with my own example?\n",
    "Speaker 2: Of course! VibeVoice is open-source, built to benefit everyone — you’re welcome to try it out.\"\"\"\n",
    "with open(\"demo/text_examples/my_example.txt\", \"w\", encoding=\"utf-8\") as f:\n",
    "    f.write(text)"
   ]
  },
  {
   "cell_type": "code",
   "execution_count": null,
   "id": "heoxL08yM-gf",
   "metadata": {
    "id": "heoxL08yM-gf"
   },
   "outputs": [],
   "source": [
    "!python demo/inference_from_file.py --model_path microsoft/VibeVoice-1.5B --txt_path demo/text_examples/my_example.txt --speaker_names Alice Frank\n",
    "Audio(\"./outputs/my_example_generated.wav\")\n"
   ]
  },
  {
   "cell_type": "markdown",
   "id": "f09ff159",
   "metadata": {},
   "source": [
    "# Risk and Limitations"
   ]
  },
  {
   "cell_type": "markdown",
   "id": "1e15d4e0",
   "metadata": {},
   "source": [
    "While efforts have been made to optimize it through various techniques, it may still produce outputs that are unexpected, biased, or inaccurate. VibeVoice inherits any biases, errors, or omissions produced by its base model (specifically, Qwen2.5 1.5b in this release). Potential for Deepfakes and Disinformation: High-quality synthetic speech can be misused to create convincing fake audio content for impersonation, fraud, or spreading disinformation. Users must ensure transcripts are reliable, check content accuracy, and avoid using generated content in misleading ways. Users are expected to use the generated content and to deploy the models in a lawful manner, in full compliance with all applicable laws and regulations in the relevant jurisdictions. It is best practice to disclose the use of AI when sharing AI-generated content."
   ]
  }
 ],
 "metadata": {
  "accelerator": "GPU",
  "colab": {
   "gpuType": "T4",
   "provenance": []
  },
  "kernelspec": {
   "display_name": "Python 3",
   "name": "python3"
  },
  "language_info": {
   "codemirror_mode": {
    "name": "ipython",
    "version": 3
   },
   "file_extension": ".py",
   "mimetype": "text/x-python",
   "name": "python",
   "nbconvert_exporter": "python",
   "pygments_lexer": "ipython3",
   "version": "3.10.11"
  }
 },
 "nbformat": 4,
 "nbformat_minor": 5
}
